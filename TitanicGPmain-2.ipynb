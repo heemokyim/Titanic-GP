{
 "cells": [
  {
   "cell_type": "code",
   "execution_count": 50,
   "metadata": {
    "collapsed": true
   },
   "outputs": [],
   "source": [
    "import random\n",
    "import operator\n",
    "\n",
    "import numpy as np\n",
    "import matplotlib.pyplot as plt\n",
    "\n",
    "from deap import algorithms\n",
    "from deap import base\n",
    "from deap import creator\n",
    "from deap import tools\n",
    "from deap import gp\n",
    "import pandas as pd\n",
    "import numpy as np\n",
    "from sklearn.model_selection import train_test_split"
   ]
  },
  {
   "cell_type": "code",
   "execution_count": 51,
   "metadata": {
    "collapsed": true
   },
   "outputs": [],
   "source": [
    "pset = gp.PrimitiveSetTyped(\"main\", [float, float, float, float, \n",
    "                                     bool, bool, bool, bool, bool, bool, bool, bool], bool)\n",
    "pset.addPrimitive(operator.xor, [bool, bool], bool)\n",
    "pset.addPrimitive(operator.and_, [bool, bool], bool)\n",
    "pset.addPrimitive(operator.or_, [bool, bool], bool)\n",
    "pset.addPrimitive(operator.mul, [float, float], float)\n",
    "pset.addPrimitive(operator.add, [float, float], float)\n",
    "pset.addPrimitive(operator.pow, [float, float], float)\n",
    "pset.addPrimitive(np.subtract, [float, float], float)"
   ]
  },
  {
   "cell_type": "code",
   "execution_count": 52,
   "metadata": {
    "collapsed": true
   },
   "outputs": [],
   "source": [
    "expr = gp.genFull(pset, min_=12, max_=12)\n",
    "tree = gp.PrimitiveTree(expr)"
   ]
  },
  {
   "cell_type": "code",
   "execution_count": 53,
   "metadata": {
    "collapsed": true
   },
   "outputs": [],
   "source": [
    "creator.create(\"FitnessMin\", base.Fitness, weights=(-1.0,))\n",
    "creator.create(\"Individual\", gp.PrimitiveTree, fitness=creator.FitnessMin,\n",
    "               pset=pset)"
   ]
  },
  {
   "cell_type": "code",
   "execution_count": 54,
   "metadata": {
    "collapsed": true
   },
   "outputs": [],
   "source": [
    "# Age  SibSp  Parch      Fare  female  male  C  Q  S  1  2  3\n",
    "def evalSymbReg(tree, pset):\n",
    "    function = gp.compile(tree, pset)\n",
    "    i = 0\n",
    "    total_correct = 0\n",
    "    false_p = 0\n",
    "    false_n = 0\n",
    "    for row in df1.iterrows():\n",
    "        Age = df1.iloc[i,0]\n",
    "        SibSp = df1.iloc[i, 1]\n",
    "        Parch = df1.iloc[i, 2]\n",
    "        Fare = df1.iloc[i, 3]\n",
    "        female = df1.iloc[i, 4]\n",
    "        male = df1.iloc[i, 5]\n",
    "        c = df1.iloc[i, 6]\n",
    "        q = df1.iloc[i, 7]\n",
    "        s = df1.iloc[i, 8]\n",
    "        p1 = df1.iloc[i, 9]\n",
    "        p2 = df1.iloc[i, 10]\n",
    "        p3 = df1.iloc[i, 11]\n",
    "        x = function(Age, SibSp, Parch, Fare, female, male, c,q,s,p1,p2,p3)\n",
    "        truth = y1.iloc[i]\n",
    "        if truth == 0:\n",
    "            if x == 1:\n",
    "                false_p = false_p + 1\n",
    "        else:\n",
    "            if x == 0:\n",
    "                false_n = false_n + 1\n",
    "        i = i + 1\n",
    "    #return total_correct / float(i)"
   ]
  },
  {
   "cell_type": "code",
   "execution_count": 55,
   "metadata": {
    "collapsed": true
   },
   "outputs": [],
   "source": [
    "toolbox = base.Toolbox()\n",
    "toolbox.register(\"expr\", gp.genFull, pset=pset, min_=1, max_=12)\n",
    "toolbox.register(\"individual\", tools.initIterate, creator.Individual,\n",
    "                 toolbox.expr)\n",
    "toolbox.register(\"population\", tools.initRepeat, list, toolbox.individual)\n",
    "toolbox.register(\"evaluate\", evalSymbReg, pset = pset)\n",
    "toolbox.register(\"select\", tools.selTournament, tournsize=3)\n",
    "toolbox.register(\"mate\", gp.cxOnePoint)\n",
    "toolbox.register(\"expr_mut\", gp.genFull, min_=0, max_=2)\n",
    "toolbox.register(\"mutate\", gp.mutUniform, expr=toolbox.expr_mut, pset=pset)"
   ]
  },
  {
   "cell_type": "code",
   "execution_count": 56,
   "metadata": {
    "collapsed": true
   },
   "outputs": [],
   "source": [
    "df = pd.read_csv('trainForTitanic.csv', delimiter=',')"
   ]
  },
  {
   "cell_type": "code",
   "execution_count": 57,
   "metadata": {
    "collapsed": true
   },
   "outputs": [],
   "source": [
    "sex = pd.Series(df['Sex'])\n",
    "sexDF = pd.get_dummies(sex)\n",
    "df = df.drop('Sex', axis = 1)\n",
    "df = df.join(sexDF)"
   ]
  },
  {
   "cell_type": "code",
   "execution_count": 58,
   "metadata": {
    "collapsed": true
   },
   "outputs": [],
   "source": [
    "embarked = pd.Series(df['Embarked'])\n",
    "embarkedDF = pd.get_dummies(embarked)\n",
    "df = df.drop('Embarked', axis = 1)\n",
    "df = df.join(embarkedDF)"
   ]
  },
  {
   "cell_type": "code",
   "execution_count": 59,
   "metadata": {
    "collapsed": true
   },
   "outputs": [],
   "source": [
    "#df['Pclass'].fillna((df['Pclass'].mean()), inplace=True)\n",
    "pclass = pd.Series(df['Pclass'])\n",
    "pclassDF = pd.get_dummies(pclass)\n",
    "df = df.drop('Pclass', axis = 1)\n",
    "df = df.join(pclassDF)"
   ]
  },
  {
   "cell_type": "code",
   "execution_count": 60,
   "metadata": {
    "collapsed": true
   },
   "outputs": [],
   "source": [
    "df = df.drop({'Name', 'Ticket', 'Cabin'}, axis = 1)\n",
    "\n",
    "df['Age'].fillna(int(df['Age'].mean()), inplace=True)\n",
    "df['SibSp'].fillna((df['SibSp'].mean()), inplace=True)\n",
    "df['Fare'].fillna( int(df['Fare'].mean()), inplace=True)\n",
    "df['Parch'].fillna((df['Parch'].mean()), inplace=True)\n",
    "\n",
    "df1 = df.drop(\"Survived\", axis = 1)\n",
    "y1 = df['Survived']\n",
    "\n",
    "df1 = df1.drop('PassengerId', axis = 1)\n",
    "#We don't need to cross-validate but we are simply testing the individual with the entire training data and basing fitness\n",
    "#off of that\n",
    "#df1, df2, y1, y2 = train_test_split(df1, y1, test_size=.3, random_state = 0)"
   ]
  },
  {
   "cell_type": "code",
   "execution_count": 61,
   "metadata": {
    "collapsed": true
   },
   "outputs": [],
   "source": [
    "pop = toolbox.population(n=300)\n",
    "fitnesses = list(map(toolbox.evaluate, pop))"
   ]
  },
  {
   "cell_type": "code",
   "execution_count": 62,
   "metadata": {
    "collapsed": true
   },
   "outputs": [],
   "source": [
    "for ind, fit in zip(pop, fitnesses):\n",
    "    ind.fitness.values = (fit, )"
   ]
  }
 ],
 "metadata": {
  "kernelspec": {
   "display_name": "Python 3",
   "language": "python",
   "name": "python3"
  },
  "language_info": {
   "codemirror_mode": {
    "name": "ipython",
    "version": 3
   },
   "file_extension": ".py",
   "mimetype": "text/x-python",
   "name": "python",
   "nbconvert_exporter": "python",
   "pygments_lexer": "ipython3",
   "version": "3.6.1"
  }
 },
 "nbformat": 4,
 "nbformat_minor": 2
}
