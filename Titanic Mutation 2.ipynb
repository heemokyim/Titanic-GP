{
 "cells": [
  {
   "cell_type": "code",
   "execution_count": 1,
   "metadata": {
    "collapsed": true
   },
   "outputs": [],
   "source": [
    "import random\n",
    "import operator"
   ]
  },
  {
   "cell_type": "code",
   "execution_count": 2,
   "metadata": {
    "collapsed": true
   },
   "outputs": [],
   "source": [
    "import numpy as np\n",
    "import matplotlib.pyplot as plt\n",
    "import csv as csv\n",
    "#import pygraphviz as pg"
   ]
  },
  {
   "cell_type": "code",
   "execution_count": 3,
   "metadata": {
    "collapsed": true
   },
   "outputs": [],
   "source": [
    "from deap import algorithms\n",
    "from deap import base\n",
    "from deap import creator\n",
    "from deap import tools\n",
    "from deap import gp"
   ]
  },
  {
   "cell_type": "code",
   "execution_count": 4,
   "metadata": {
    "collapsed": true
   },
   "outputs": [],
   "source": [
    "from inspect import isclass\n",
    "import scipy\n"
   ]
  },
  {
   "cell_type": "code",
   "execution_count": 5,
   "metadata": {
    "collapsed": true
   },
   "outputs": [],
   "source": [
    "#########################################################################\n",
    "# TITANIC INPUT DATA\n",
    "#########################################################################\n",
    "\n",
    "train_data=[] # Create a bin to hold our training data.\n",
    "test_data=[]  # Create a bin to hold our test data.\n"
   ]
  },
  {
   "cell_type": "code",
   "execution_count": 6,
   "metadata": {
    "collapsed": true
   },
   "outputs": [],
   "source": [
    "# Read in CSVs, train and test\n",
    "\n",
    "with open('train.csv', 'r') as f1:\n",
    "    f1.readline()\n",
    "    for row in  csv.reader(f1):       # Skip through each row in the csv file\n",
    "        train_data.append(row)        # Add each row to the data variable\n",
    "    train_data = np.array(train_data) # Then convert from a list to a NumPy array\n",
    "\n",
    "with open('test.csv', 'r') as f2:\n",
    "    f2.readline()\n",
    "    for row in csv.reader(f2):      # Skip through each row in the csv file\n",
    "        test_data.append(row)       # Add each row to the data variable\n",
    "    test_data = np.array(test_data) # Then convert from a list to an array\n"
   ]
  },
  {
   "cell_type": "code",
   "execution_count": 7,
   "metadata": {
    "collapsed": true
   },
   "outputs": [],
   "source": [
    "# Convert strings to numbers so we can perform computational analysis    \n",
    "# The gender classifier in column 3: Male = 1, female = 0:\n",
    "train_data[train_data[0::,3] == 'male', 3] = 1\n",
    "train_data[train_data[0::,3] == 'female', 3] = 0"
   ]
  },
  {
   "cell_type": "code",
   "execution_count": 8,
   "metadata": {
    "collapsed": true
   },
   "outputs": [],
   "source": [
    "# Embark C = 0, S = 1, Q = 2\n",
    "train_data[train_data[0::,10] == 'C', 10] = 0\n",
    "train_data[train_data[0::,10] == 'S', 10] = 1\n",
    "train_data[train_data[0::,10] == 'Q', 10] = 2"
   ]
  },
  {
   "cell_type": "code",
   "execution_count": 9,
   "metadata": {},
   "outputs": [],
   "source": [
    "# Transfer Null observations\n",
    "# So where there is no price, I will assume price on median of that class\n",
    "# Where there is no age I will give median of all ages\n",
    "\n",
    "# All the ages with no data make the median of the data\n",
    "train_data[train_data[0::,4] == '',4] = np.median(train_data[train_data[0::,4]\\\n",
    "                                           != '',4].astype(np.float))\n",
    "# All missing embarks just make them embark from most common place\n",
    "train_data[train_data[0::,10] == '',10] = np.round(np.mean(train_data[train_data[0::,10]\\\n",
    "                                                   != '',10].astype(np.float)))\n",
    "\n",
    "train_data = np.delete(train_data,[2,7,9],1) #remove the name data, cabin and ticket\n",
    "# I need to do the same with the test data now so that the columns are in the same\n",
    "# as the training data\n",
    "\n",
    "# I need to convert all strings to integer classifiers:\n",
    "# male = 1, female = 0:\n",
    "test_data[test_data[0::,2] == 'male',2] = 1\n",
    "test_data[test_data[0::,2] == 'female',2] = 0"
   ]
  },
  {
   "cell_type": "code",
   "execution_count": 10,
   "metadata": {
    "collapsed": true
   },
   "outputs": [],
   "source": [
    "# Embark C = 0, S = 1, Q = 2\n",
    "test_data[test_data[0::,9] == 'C',9] = 0\n",
    "test_data[test_data[0::,9] == 'S',9] = 1\n",
    "test_data[test_data[0::,9] =='Q',9] = 2\n",
    "\n",
    "# All the ages with no data make the median of the data\n",
    "test_data[test_data[0::,3] == '',3] = np.median(test_data[test_data[0::,3] != '',3].astype(np.float))\n",
    "# All missing embarks just make them embark from most common place\n",
    "test_data[test_data[0::,9] == '',9] = np.round(np.median(test_data[test_data[0::,9] != '',9].astype(np.float)))\n",
    "# All the missing prices assume median of their respective class\n",
    "for i in range(np.size(test_data[0::,0])):\n",
    "    if test_data[i,7] == '':\n",
    "        test_data[i,7] = np.median(test_data[(test_data[0::,7] != '') &\\\n",
    "                                             (test_data[0::,0] == test_data[i,0])\\\n",
    "            ,7].astype(np.float))\n",
    "\n",
    "test_data = np.delete(test_data,[1,6,8],1) # Remove the name data, cabin and ticket\n",
    "\n",
    "\n",
    "random.seed(0)\n",
    "titanic_x = train_data[0::,1::]\n",
    "titanic_x = titanic_x.astype(float)\n",
    "titanic_x = titanic_x / titanic_x.max(axis=0)\n",
    "titanic_y = train_data[0::,0]"
   ]
  },
  {
   "cell_type": "code",
   "execution_count": 11,
   "metadata": {
    "collapsed": true
   },
   "outputs": [],
   "source": [
    "# split into train and test sets\n",
    "ind = int(len(titanic_x) * .8)\n",
    "train_x = titanic_x[:ind]\n",
    "train_y = titanic_y[:ind]\n",
    "test_x = titanic_x[ind:]\n",
    "test_y = titanic_y[ind:]"
   ]
  },
  {
   "cell_type": "code",
   "execution_count": 12,
   "metadata": {
    "collapsed": true
   },
   "outputs": [],
   "source": [
    "##############################################################################\n",
    "\n",
    "creator.create(\"FitnessMin\", base.Fitness, weights=(-1.0,-1.0))\n",
    "creator.create(\"Individual\", gp.PrimitiveTree, fitness=creator.FitnessMin)\n"
   ]
  },
  {
   "cell_type": "code",
   "execution_count": 13,
   "metadata": {
    "collapsed": true
   },
   "outputs": [],
   "source": [
    "def inverse(x):\n",
    "    if abs(float(x)) < 1e-9:\n",
    "        return 1\n",
    "    return np.power(float(x), -1)\n",
    "\n",
    "pset = gp.PrimitiveSet(\"MAIN\", arity=7)\n",
    "pset.addPrimitive(np.add, arity=2)\n",
    "pset.addPrimitive(np.subtract, arity=2)\n",
    "pset.addPrimitive(np.multiply, arity=2)\n",
    "pset.addPrimitive(np.negative, arity=1)\n",
    "pset.addPrimitive(inverse, arity=1)\n",
    "pset.renameArguments(ARG0='Pclass')\n",
    "pset.renameArguments(ARG1='Sex')\n",
    "pset.renameArguments(ARG2='Age')\n",
    "pset.renameArguments(ARG3='SibSp')\n",
    "pset.renameArguments(ARG4='Parch')\n",
    "pset.renameArguments(ARG5='Fare')\n",
    "pset.renameArguments(ARG6='Embarked')"
   ]
  },
  {
   "cell_type": "code",
   "execution_count": 14,
   "metadata": {
    "collapsed": true
   },
   "outputs": [],
   "source": [
    "pset.addEphemeralConstant(\"const\", lambda: random.randint(-10, 10))\n",
    "\n",
    "toolbox = base.Toolbox()\n",
    "toolbox.register(\"expr\", gp.genHalfAndHalf, pset=pset, min_=1, max_=2)\n",
    "toolbox.register(\"individual\", tools.initIterate, creator.Individual, toolbox.expr)\n",
    "toolbox.register(\"population\", tools.initRepeat, list, toolbox.individual)\n",
    "toolbox.register(\"compile\", gp.compile, pset=pset)\n"
   ]
  },
  {
   "cell_type": "code",
   "execution_count": 15,
   "metadata": {
    "collapsed": true
   },
   "outputs": [],
   "source": [
    "# Combine tournament with NSGA2\n",
    "def my_select(population, k):\n",
    "    population = tools.selNSGA2(population, len(population))\n",
    "    return tools.selTournamentDCD(population, k)\n"
   ]
  },
  {
   "cell_type": "code",
   "execution_count": 16,
   "metadata": {
    "collapsed": true
   },
   "outputs": [],
   "source": [
    "def mutShrink(individual):\n",
    "    ##This operator shrinks the *individual* by chosing randomly a branch and\n",
    "    ##replacing it with one of the branch's arguments (also randomly chosen).\n",
    "    ##:param individual: The tree to be shrinked.\n",
    "    ##:returns: A tuple of one tree.\n",
    "    \n",
    "    # We don't want to \"shrink\" the root\n",
    "    \n",
    "    if len(individual) < 3 or individual.height <= 1:\n",
    "        return individual,\n",
    "    \n",
    "    iprims = []\n",
    "    for i, node in enumerate(individual[1:], 1):\n",
    "        if isinstance(node, Primitive) and node.ret in node.args:\n",
    "            iprims.append((i, node))\n",
    "            \n",
    "    if len(iprims) != 0:\n",
    "        index, prim = random.choice(iprims)\n",
    "        arg_idx = random.choice([i for i, type_ in enumerate(prim.args) \n",
    "                                 if type_ == prim.ret])\n",
    "        rindex = index + 1\n",
    "        for _ in range(arg_idx + 1):\n",
    "            rslice = individual.searchSubtree(index)\n",
    "            individual[slice_] = subtree\n",
    "            \n",
    "    return individual,"
   ]
  },
  {
   "cell_type": "code",
   "execution_count": 17,
   "metadata": {
    "collapsed": true
   },
   "outputs": [],
   "source": [
    "def evalSymbReg(individual, x, y, pset):\n",
    "    func = gp.compile(expr=individual, pset=pset)\n",
    "    r = []\n",
    "    for z in x:\n",
    "\n",
    "        a = func(float(z[0]), float(z[1]), float(z[2]),float(z[3]),float(z[4]),float(z[5]),float(z[6]))\n",
    "        r.append(a)\n",
    "    results = [0 if m > 0 else 1 for m in r]\n",
    "    fp = 0\n",
    "    fn = 0\n",
    "    for t in zip(results, y):\n",
    "        if t[0] != int(t[1]):\n",
    "            if int(t[1]):\n",
    "                fp += 1\n",
    "            else:\n",
    "                fn += 1\n",
    "\n",
    "    return (fp, fn)"
   ]
  },
  {
   "cell_type": "code",
   "execution_count": 18,
   "metadata": {
    "collapsed": true
   },
   "outputs": [],
   "source": [
    "toolbox.register(\"evaluate\", evalSymbReg, x=titanic_x, y=titanic_y, pset=pset)\n",
    "toolbox.register(\"select\", my_select)\n",
    "toolbox.register(\"mate\", gp.cxOnePoint)\n",
    "toolbox.register(\"expr_mut\", gp.genFull, min_=0, max_=2)\n",
    "toolbox.register(\"mutate\", gp.mutUniform, expr=toolbox.expr_mut, pset=pset)\n"
   ]
  },
  {
   "cell_type": "code",
   "execution_count": 19,
   "metadata": {},
   "outputs": [],
   "source": [
    "from multiprocessing import Pool\n",
    "\n",
    "if __name__ == '__main__':\n",
    "    pool = Pool()\n",
    "    toolbox.register('map', pool.map)\n",
    "\n",
    "    #toolbox.register()\n",
    "\n",
    "    toolbox.decorate(\"mate\", gp.staticLimit(key=operator.attrgetter(\"height\"), max_value=17))\n",
    "    toolbox.decorate(\"mutate\", gp.staticLimit(key=operator.attrgetter(\"height\"), max_value=17))\n",
    "\n",
    "    gen = range(100)\n",
    "    avg_list = []\n",
    "    max_list = []\n",
    "    min_list = []\n",
    "    avg_list2 = []\n",
    "    max_list2 = []\n",
    "    min_list2 = []\n",
    "pop = toolbox.population(n=1000)"
   ]
  },
  {
   "cell_type": "code",
   "execution_count": 20,
   "metadata": {
    "collapsed": true
   },
   "outputs": [],
   "source": [
    "# Evaluate the entire population\n",
    "fitnesses = list(toolbox.map(toolbox.evaluate, pop))\n",
    "for ind, fit in zip(pop, fitnesses):\n",
    "    ind.fitness.values = fit\n",
    "\n",
    "    #probList = [2.0 / 14, 4.0 / 14, 2.0 / 14, 1.0 / 14, 2.0 / 14, 1.0 / 14, 2.0 / 14]\n",
    "    #choices = ['Pclass', 'Sex', 'Age', 'SibSp', 'Parch', 'Fare', 'Embarked']\n",
    "\n",
    "    p1 = 0.25\n",
    "    p2 = 0.3\n",
    "\n",
    "    #keep track of all our pareto areas\n",
    "    paretoAreaList = []\n"
   ]
  },
  {
   "cell_type": "code",
   "execution_count": 21,
   "metadata": {},
   "outputs": [
    {
     "name": "stdout",
     "output_type": "stream",
     "text": [
      "-- Generation 0 --\n",
      "-- Generation 1 --\n",
      "-- Generation 2 --\n",
      "-- Generation 3 --\n",
      "-- Generation 4 --\n",
      "-- Generation 5 --\n",
      "-- Generation 6 --\n",
      "-- Generation 7 --\n",
      "-- Generation 8 --\n",
      "-- Generation 9 --\n",
      "-- Generation 10 --\n",
      "-- Generation 11 --\n",
      "-- Generation 12 --\n",
      "-- Generation 13 --\n",
      "-- Generation 14 --\n",
      "-- Generation 15 --\n",
      "-- Generation 16 --\n",
      "-- Generation 17 --\n",
      "-- Generation 18 --\n",
      "-- Generation 19 --\n",
      "-- Generation 20 --\n",
      "-- Generation 21 --\n",
      "-- Generation 22 --\n",
      "-- Generation 23 --\n",
      "-- Generation 24 --\n",
      "-- Generation 25 --\n",
      "-- Generation 26 --\n",
      "-- Generation 27 --\n",
      "-- Generation 28 --\n",
      "-- Generation 29 --\n",
      "-- Generation 30 --\n",
      "-- Generation 31 --\n",
      "-- Generation 32 --\n",
      "-- Generation 33 --\n",
      "-- Generation 34 --\n",
      "-- Generation 35 --\n",
      "-- Generation 36 --\n",
      "-- Generation 37 --\n",
      "-- Generation 38 --\n",
      "-- Generation 39 --\n",
      "-- Generation 40 --\n",
      "-- Generation 41 --\n",
      "-- Generation 42 --\n",
      "-- Generation 43 --\n",
      "-- Generation 44 --\n",
      "-- Generation 45 --\n",
      "-- Generation 46 --\n",
      "-- Generation 47 --\n",
      "-- Generation 48 --\n",
      "-- Generation 49 --\n",
      "-- Generation 50 --\n",
      "-- Generation 51 --\n",
      "-- Generation 52 --\n",
      "-- Generation 53 --\n",
      "-- Generation 54 --\n",
      "-- Generation 55 --\n",
      "-- Generation 56 --\n",
      "-- Generation 57 --\n",
      "-- Generation 58 --\n",
      "-- Generation 59 --\n",
      "-- Generation 60 --\n",
      "-- Generation 61 --\n",
      "-- Generation 62 --\n",
      "-- Generation 63 --\n",
      "-- Generation 64 --\n",
      "-- Generation 65 --\n",
      "-- Generation 66 --\n",
      "-- Generation 67 --\n",
      "-- Generation 68 --\n",
      "-- Generation 69 --\n",
      "-- Generation 70 --\n",
      "-- Generation 71 --\n",
      "-- Generation 72 --\n",
      "-- Generation 73 --\n",
      "-- Generation 74 --\n",
      "-- Generation 75 --\n",
      "-- Generation 76 --\n",
      "-- Generation 77 --\n",
      "-- Generation 78 --\n",
      "-- Generation 79 --\n",
      "-- Generation 80 --\n",
      "-- Generation 81 --\n",
      "-- Generation 82 --\n",
      "-- Generation 83 --\n",
      "-- Generation 84 --\n",
      "-- Generation 85 --\n",
      "-- Generation 86 --\n",
      "-- Generation 87 --\n",
      "-- Generation 88 --\n",
      "-- Generation 89 --\n",
      "-- Generation 90 --\n",
      "-- Generation 91 --\n",
      "-- Generation 92 --\n",
      "-- Generation 93 --\n",
      "-- Generation 94 --\n",
      "-- Generation 95 --\n",
      "-- Generation 96 --\n",
      "-- Generation 97 --\n",
      "-- Generation 98 --\n",
      "-- Generation 99 --\n"
     ]
    }
   ],
   "source": [
    "# Begin the evolution\n",
    "for g in gen:\n",
    "    print(\"-- Generation %i --\" % g)\n",
    "    p1 -= .0015\n",
    "    p2 -= .0015\n",
    "    # Select the next generation individuals\n",
    "    offspring = toolbox.select(pop, len(pop))\n",
    "    # Clone the selected individuals\n",
    "    offspring = list(toolbox.map(toolbox.clone, offspring))\n",
    "\n",
    "    # Apply crossover and mutation on the offspring\n",
    "    for child1, child2 in zip(offspring[::2], offspring[1::2]):\n",
    "        if random.random() < 0.5:\n",
    "            toolbox.mate(child1, child2)\n",
    "            del child1.fitness.values\n",
    "            del child2.fitness.values\n",
    "            for mutant in offspring:\n",
    "                indRange = len(mutant)\n",
    "                if random.random() < p1:\n",
    "                    #toolbox.mutate(mutant)\n",
    "                    if indRange <= 10: #bloat control\n",
    "                        location = random.randint(1,indRange - 1)\n",
    "                        subtree_slice = mutant.searchSubtree(location)\n",
    "                        ind = gp.genHalfAndHalf(pset=pset, min_=1, max_=2)\n",
    "                        mutant[subtree_slice] = ind[:]\n",
    "                        del mutant.fitness.values\n",
    "                        ##if random.random() < p2:\n",
    "                            ##if indRange < 10: #bloat control\n",
    "                                ##mutShrink(mutant)\n",
    "                                ##del mutant.fitness.values\n",
    "\n"
   ]
  },
  {
   "cell_type": "code",
   "execution_count": 22,
   "metadata": {
    "collapsed": true
   },
   "outputs": [],
   "source": [
    "# Evaluate the individuals with an invalid fitness\n",
    "invalid_ind = [ind for ind in offspring if not ind.fitness.valid]\n",
    "fitnesses = toolbox.map(toolbox.evaluate, invalid_ind)\n",
    "for ind, fit in zip(invalid_ind, fitnesses):\n",
    "    ind.fitness.values = fit\n"
   ]
  },
  {
   "cell_type": "code",
   "execution_count": 23,
   "metadata": {},
   "outputs": [
    {
     "name": "stdout",
     "output_type": "stream",
     "text": [
      "  Min 0.0\n",
      "  Max 342.0\n",
      "  Avg 157.011\n",
      "  Std 137.30906335344366\n"
     ]
    }
   ],
   "source": [
    "# Replace population\n",
    "pop[:] = offspring\n",
    "# Gather all the fitnesses in one list and print the stats\n",
    "fits = [ind.fitness.values[0] for ind in pop]\n",
    "length = len(pop)\n",
    "mean = sum(fits) / length\n",
    "sum2 = sum(x*x for x in fits)\n",
    "std = abs(sum2 / length - mean**2)**0.5\n",
    "g_max = max(fits)\n",
    "g_min = min(fits)\n",
    "\n",
    "avg_list.append(mean)\n",
    "max_list.append(g_max)\n",
    "min_list.append(g_min)\n",
    "\n",
    "print(\"  Min %s\" % g_min)\n",
    "print(\"  Max %s\" % g_max)\n",
    "print(\"  Avg %s\" % mean)\n",
    "print(\"  Std %s\" % std)"
   ]
  },
  {
   "cell_type": "code",
   "execution_count": 24,
   "metadata": {},
   "outputs": [
    {
     "name": "stdout",
     "output_type": "stream",
     "text": [
      "  Min 0.0\n",
      "  Max 549.0\n",
      "  Avg 291.81\n",
      "  Std 236.67274008639018\n"
     ]
    }
   ],
   "source": [
    "        # Gather all the fitnesses in one list and print the stats\n",
    "        fits = [ind.fitness.values[1] for ind in pop]\n",
    "\n",
    "        length = len(pop)\n",
    "        mean = sum(fits) / length\n",
    "        sum2 = sum(x*x for x in fits)\n",
    "        std = abs(sum2 / length - mean**2)**0.5\n",
    "        g_max = max(fits)\n",
    "        g_min = min(fits)\n",
    "\n",
    "        avg_list2.append(mean)\n",
    "        max_list2.append(g_max)\n",
    "        min_list2.append(g_min)\n",
    "        print(\"  Min %s\" % g_min)\n",
    "        print(\"  Max %s\" % g_max)\n",
    "        print(\"  Avg %s\" % mean)\n",
    "        print(\"  Std %s\" % std)"
   ]
  },
  {
   "cell_type": "code",
   "execution_count": 25,
   "metadata": {},
   "outputs": [
    {
     "name": "stdout",
     "output_type": "stream",
     "text": [
      "-- End of (successful) evolution --\n",
      "Best individual is inverse(subtract(subtract(inverse(add(Pclass, Parch)), add(Pclass, Embarked)), inverse(multiply(Pclass, Fare)))), (0.0, 544.0)\n",
      "Worst individual is subtract(subtract(inverse(add(Age, SibSp)), multiply(Pclass, SibSp)), add(add(multiply(Parch, Age), Parch), Fare)), (342.0, 9.0)\n"
     ]
    }
   ],
   "source": [
    "print(\"-- End of (successful) evolution --\")\n",
    "best_ind = tools.selBest(pop, 1)[0]\n",
    "print(\"Best individual is %s, %s\" % (best_ind, best_ind.fitness.values))\n",
    "\n",
    "worst_ind = tools.selWorst(pop, 1)[0]\n",
    "print(\"Worst individual is %s, %s\" % (worst_ind, worst_ind.fitness.values))\n",
    "\n",
    "a_given_individual = toolbox.population(n=1)[0]\n",
    "a_given_individual.fitness.values = toolbox.evaluate(a_given_individual)\n"
   ]
  },
  {
   "cell_type": "code",
   "execution_count": 26,
   "metadata": {},
   "outputs": [
    {
     "data": {
      "image/png": "[encoded data removed]",
      "text/plain": [
       "<matplotlib.figure.Figure at 0x10a01efd0>"
      ]
     },
     "metadata": {},
     "output_type": "display_data"
    }
   ],
   "source": [
    "def pareto_dominance(ind1, ind2):\n",
    "    not_equal = False\n",
    "    for value_1, value_2 in zip(ind1.fitness.values, ind2.fitness.values):\n",
    "        if value_1 > value_2:\n",
    "            return False\n",
    "        elif value_1 < value_2:\n",
    "            not_equal = True\n",
    "    return not_equal\n",
    "\n",
    "dominated = [ind for ind in pop if pareto_dominance(a_given_individual, ind)]\n",
    "dominators = [ind for ind in pop if pareto_dominance(ind, a_given_individual)]\n",
    "others = [ind for ind in pop if not ind in dominated and not ind in dominators]\n",
    "    \n",
    "for ind in dominators: plt.plot(ind.fitness.values[0], ind.fitness.values[1], 'r.', alpha=0.7)\n",
    "for ind in dominated: plt.plot(ind.fitness.values[0], ind.fitness.values[1], 'g.', alpha=0.7)\n",
    "for ind in others: plt.plot(ind.fitness.values[0], ind.fitness.values[1], 'k.', alpha=0.7, ms=3)\n",
    "plt.plot(a_given_individual.fitness.values[0], a_given_individual.fitness.values[1], 'bo', ms=6);\n",
    "plt.xlabel('false positive');\n",
    "plt.ylabel('false negative');\n",
    "plt.title('Objective space');\n",
    "plt.tight_layout()\n",
    "plt.show()"
   ]
  },
  {
   "cell_type": "code",
   "execution_count": 27,
   "metadata": {
    "collapsed": true
   },
   "outputs": [],
   "source": [
    "def predict(individual, x, pset):\n",
    "        func = gp.compile(expr=individual, pset=pset)\n",
    "        r = []\n",
    "        for z in x:\n",
    "\n",
    "            a = func(float(z[0]), float(z[1]), float(z[2]),float(z[3]),float(z[4]),float(z[5]),float(z[6]))\n",
    "            r.append(a)\n",
    "        results = [0 if m > 0 else 1 for m in r]\n",
    "        return results"
   ]
  },
  {
   "cell_type": "code",
   "execution_count": 28,
   "metadata": {
    "collapsed": true
   },
   "outputs": [],
   "source": [
    "def accuracy(individual, x, y, pset):\n",
    "        func = gp.compile(expr=individual, pset=pset)\n",
    "        r = []\n",
    "        for z in x:\n",
    "\n",
    "            a = func(float(z[0]), float(z[1]), float(z[2]),float(z[3]),float(z[4]),float(z[5]),float(z[6]))\n",
    "            r.append(a)\n",
    "        results = [0 if m > 0 else 1 for m in r]\n",
    "        correct = 0\n",
    "        for t in zip(results, y):\n",
    "            if t[0] == int(t[1]):\n",
    "                correct+=1\n",
    "\n",
    "        return (correct) / len(y)\n"
   ]
  },
  {
   "cell_type": "code",
   "execution_count": 29,
   "metadata": {},
   "outputs": [
    {
     "name": "stdout",
     "output_type": "stream",
     "text": [
      "The pareto area is 35121\n"
     ]
    }
   ],
   "source": [
    "    paretoFront = tools.ParetoFront()\n",
    "\n",
    "    paretoFront.update(pop)\n",
    "\n",
    "    x = []\n",
    "    y = []\n",
    "    for ind in paretoFront:\n",
    "        x.append(ind.fitness.values[0])\n",
    "        y.append(ind.fitness.values[1])\n",
    "\n",
    "    paretoArea = np.trapz(np.asarray(y), np.asarray(x))\n",
    "    print(\"The pareto area is %d\" %paretoArea)\n"
   ]
  },
  {
   "cell_type": "code",
   "execution_count": 30,
   "metadata": {},
   "outputs": [
    {
     "data": {
      "image/png": "[encoded data removed]",
      "text/plain": [
       "<matplotlib.figure.Figure at 0x109fdbf98>"
      ]
     },
     "metadata": {},
     "output_type": "display_data"
    },
    {
     "name": "stdout",
     "output_type": "stream",
     "text": [
      "38\n",
      "individual is inverse(subtract(subtract(inverse(add(Pclass, Parch)), add(Pclass, Embarked)), inverse(multiply(Pclass, Fare)))), (0.0, 544.0)\n",
      "38\n",
      "individual is subtract(subtract(subtract(Sex, inverse(multiply(Age, 1))), negative(Embarked)), Fare), (2.0, 527.0)\n",
      "38\n",
      "individual is subtract(multiply(Pclass, Embarked), add(multiply(negative(Sex), Pclass), inverse(Parch))), (30.0, 318.0)\n",
      "38\n",
      "individual is inverse(subtract(subtract(subtract(Sex, Parch), multiply(Age, multiply(add(-8, Pclass), multiply(Pclass, Parch)))), Pclass)), (103.0, 89.0)\n",
      "38\n",
      "individual is negative(subtract(add(add(Fare, Fare), subtract(multiply(inverse(Embarked), Fare), Sex)), Parch)), (143.0, 58.0)\n",
      "38\n",
      "individual is subtract(multiply(Sex, add(subtract(Pclass, Embarked), add(Pclass, Sex))), negative(SibSp)), (205.0, 37.0)\n"
     ]
    }
   ],
   "source": [
    "#for ind in paretoFront: plt.plot(ind.fitness.values[0], ind.fitness.values[1], '.r-', alpha=0.7, ms=3)\n",
    "plt.plot(x, y, '.r-')\n",
    "d = scipy.zeros(len(y))\n",
    "plt.fill_between(x, y, where=y>d)\n",
    "\n",
    "\n",
    "plt.xlabel('false positive')\n",
    "plt.ylabel('false negative')\n",
    "plt.show()\n",
    "for i in range(6):\n",
    "    print(len(paretoFront))\n",
    "    ind = paretoFront[int(len(paretoFront)/6*i)]\n",
    "    print(\"individual is %s, %s\" % (ind, ind.fitness.values))\n",
    "    nodes, edges, labels = gp.graph(ind)"
   ]
  }
 ],
 "metadata": {
  "kernelspec": {
   "display_name": "Python 3",
   "language": "python",
   "name": "python3"
  },
  "language_info": {
   "codemirror_mode": {
    "name": "ipython",
    "version": 3
   },
   "file_extension": ".py",
   "mimetype": "text/x-python",
   "name": "python",
   "nbconvert_exporter": "python",
   "pygments_lexer": "ipython3",
   "version": "3.6.1"
  }
 },
 "nbformat": 4,
 "nbformat_minor": 2
}
