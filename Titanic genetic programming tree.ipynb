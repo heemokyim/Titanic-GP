{
 "cells": [
  {
   "cell_type": "code",
   "execution_count": null,
   "metadata": {
    "collapsed": true
   },
   "outputs": [],
   "source": [
    "from deap import algorithms\n",
    "from deap import base\n",
    "from deap import creator\n",
    "from deap import tools\n",
    "from deap import gp\n",
    "import operator \n",
    "import random\n",
    "\n",
    "random.seed(318)"
   ]
  },
  {
   "cell_type": "code",
   "execution_count": null,
   "metadata": {
    "collapsed": true
   },
   "outputs": [],
   "source": [
    "pset = gp.PrimitiveSetTyped(\"MAIN\",[list], bool)"
   ]
  },
  {
   "cell_type": "code",
   "execution_count": null,
   "metadata": {
    "collapsed": true
   },
   "outputs": [],
   "source": [
    "pset.addPrimitive(np.add, [list, float] list)\n",
    "pset.addPrimitive(np.subtract, [list, float], list)\n",
    "pset.addPrimitive(np.multiply, [list, float], list)\n",
    "pset.addPrimitive(np.divide, [list, float], list)\n",
    "pset.addPrimitive(np.sum, [list], float)\n",
    "pset.addPrimitive(np.sin, [float], float) \n",
    "pset.addPrimitive(np.cos, [float], float)\n",
    "#threshold = lambda a, b: a >= b\n",
    "def threshold(a, b):\n",
    "    return a >= b\n",
    "pset.addPrimitive(threshold, [float, float], bool)\n",
    "pset.addPrimitive(operator.not_, [bool], bool)\n",
    "pset.addPrimitive(operator.and)"
   ]
  },
  {
   "cell_type": "code",
   "execution_count": null,
   "metadata": {
    "collapsed": true
   },
   "outputs": [],
   "source": [
    "toolbox = base.Toolbox()\n",
    "toolbox.register(\"expr\", gp.genHalfAndHalf, pset=pset, min_=1, max_=8)\n",
    "toolbox.register(\"individual\", tools.initIterate, creator.Individual, toolbox.expr)\n",
    "toolbox.register(\"population\", tools.initRepeat, list, toolbox.individual)\n",
    "toolbox.register(\"compile\", gp.compile, pset=pset)"
   ]
  }
 ],
 "metadata": {
  "kernelspec": {
   "display_name": "Python 3",
   "language": "python",
   "name": "python3"
  },
  "language_info": {
   "codemirror_mode": {
    "name": "ipython",
    "version": 3
   },
   "file_extension": ".py",
   "mimetype": "text/x-python",
   "name": "python",
   "nbconvert_exporter": "python",
   "pygments_lexer": "ipython3",
   "version": "3.6.1"
  }
 },
 "nbformat": 4,
 "nbformat_minor": 2
}
